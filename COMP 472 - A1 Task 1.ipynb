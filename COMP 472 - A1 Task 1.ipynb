{
 "cells": [
  {
   "cell_type": "markdown",
   "id": "2bf57f80",
   "metadata": {},
   "source": [
    "#### Fall 2021 | COMP 4721"
   ]
  },
  {
   "cell_type": "markdown",
   "id": "3259843f",
   "metadata": {},
   "source": [
    "## Mini-Project 1\n",
    "\n",
    "#### Wei Chen Huang, Ian Phillips, Beatrice Cobo\n",
    "---"
   ]
  },
  {
   "cell_type": "markdown",
   "id": "136d8fc2",
   "metadata": {},
   "source": [
    "### Task 1\n",
    "\n",
    "import statements for necessary libraries"
   ]
  },
  {
   "cell_type": "code",
   "execution_count": 396,
   "id": "4ffb4d51",
   "metadata": {},
   "outputs": [],
   "source": [
    "import numpy as np\n",
    "import os\n",
    "from sklearn.datasets import load_files\n",
    "from sklearn.feature_extraction.text import CountVectorizer\n",
    "from sklearn.model_selection import train_test_split\n",
    "from sklearn.naive_bayes import MultinomialNB\n",
    "import matplotlib.pyplot as plt\n",
    "from sklearn.metrics import confusion_matrix\n",
    "from sklearn.metrics import classification_report\n",
    "from sklearn.metrics import accuracy_score\n",
    "from sklearn.metrics import f1_score\n",
    "from pandas import *\n",
    "import math\n",
    "%matplotlib inline"
   ]
  },
  {
   "cell_type": "markdown",
   "id": "2ef37910",
   "metadata": {},
   "source": [
    "2. Plot the distribution of the instances in each class and save the graphic in a file called BBC-distribution.pdf.\n",
    "You may want to use matplotlib.pyplot and savefig to do this. This pre-analysis of the data set will\n",
    "allow you to determine if the classes are balanced, and which metric is more appropriate to use to evaluate\n",
    "the performance of your classifier."
   ]
  },
  {
   "cell_type": "code",
   "execution_count": 397,
   "id": "12b58c30",
   "metadata": {},
   "outputs": [
    {
     "data": {
      "image/png": "[encoded data removed]",
      "text/plain": [
       "<Figure size 432x288 with 1 Axes>"
      ]
     },
     "metadata": {
      "needs_background": "light"
     },
     "output_type": "display_data"
    }
   ],
   "source": [
    "datadir=\"BBC\"\n",
    "categories=[\"tech\", \"entertainment\", \"politics\", \"business\", \"sport\"]\n",
    "txt_array=[];\n",
    "all_array=[];\n",
    "for category in categories:  # for each class\n",
    "    path = os.path.join(datadir,category)  # create path to class\n",
    "    for txt in os.listdir(path):  # iterate over each text file per class\n",
    "        txt_array.append(txt)\n",
    "    all_array.append(len(txt_array))\n",
    "    txt_array=[]\n",
    "fig = plt.figure()\n",
    "plt.bar(categories,all_array)\n",
    "fig.savefig('BBC-distribution.pdf', dpi=fig.dpi)"
   ]
  },
  {
   "cell_type": "markdown",
   "id": "764d3f1a",
   "metadata": {},
   "source": [
    "3. Load the corpus using load files and make sure you set the encoding to latin1. This will read the file\n",
    "structure and assign the category name to each file from their parent directory name."
   ]
  },
  {
   "cell_type": "code",
   "execution_count": 398,
   "id": "24c608f2",
   "metadata": {},
   "outputs": [],
   "source": [
    "corpus=load_files(container_path=datadir,encoding=\"latin1\")"
   ]
  },
  {
   "cell_type": "markdown",
   "id": "63b379d1",
   "metadata": {},
   "source": [
    "4. Pre-process the dataset to have the features ready to be used by a multinomial Naive Bayes classifier. This\n",
    "means that the frequency of each word in each class must be computed and stored in a term-document\n",
    "matrix. For this, you can use feature extraction.text.CountVectorizer."
   ]
  },
  {
   "cell_type": "code",
   "execution_count": 399,
   "id": "5705c7aa",
   "metadata": {},
   "outputs": [],
   "source": [
    "vectorizer = CountVectorizer()\n",
    "X = vectorizer.fit_transform(corpus.data)"
   ]
  },
  {
   "cell_type": "markdown",
   "id": "fc12f7c8",
   "metadata": {},
   "source": [
    "5. Split the dataset into 80% for training and 20% for testing. For this, you must use train test split with\n",
    "the parameter random state set to None."
   ]
  },
  {
   "cell_type": "code",
   "execution_count": 400,
   "id": "a9f00608",
   "metadata": {},
   "outputs": [],
   "source": [
    "X_train, X_test, y_train, y_test = train_test_split(X,corpus.target, test_size=0.2,random_state=None)"
   ]
  },
  {
   "cell_type": "markdown",
   "id": "10bd106d",
   "metadata": {},
   "source": [
    "6. Train a multinomial Naive Bayes Classifier (naive bayes.MultinomialNB) on the training set using the\n",
    "default parameters and evaluate it on the test set."
   ]
  },
  {
   "cell_type": "code",
   "execution_count": 401,
   "id": "decf128c",
   "metadata": {},
   "outputs": [],
   "source": [
    "clf = MultinomialNB()\n",
    "clf.fit(X_train, y_train)\n",
    "predicted = clf.predict(X_test)"
   ]
  },
  {
   "cell_type": "markdown",
   "id": "8b129741",
   "metadata": {},
   "source": [
    "7. In a file called bbc-performance.txt, save the following information: (to make it easier for the TAs, make\n",
    "sure that your output for each sub-question below is clearly marked in your output file, using the headings\n",
    "(a), (b) . . .)\n"
   ]
  },
  {
   "cell_type": "markdown",
   "id": "4918c135",
   "metadata": {},
   "source": [
    "(b) the confusion matrix (you can use confusion matrix)"
   ]
  },
  {
   "cell_type": "code",
   "execution_count": 402,
   "id": "c30d7b6b",
   "metadata": {},
   "outputs": [],
   "source": [
    "cmatrix = confusion_matrix(y_test, predicted)"
   ]
  },
  {
   "cell_type": "markdown",
   "id": "36dba303",
   "metadata": {},
   "source": [
    "(c) the precision, recall, and F1-measure for each class (you can use classification report)\n"
   ]
  },
  {
   "cell_type": "code",
   "execution_count": 403,
   "id": "3fa843b3",
   "metadata": {},
   "outputs": [
    {
     "name": "stdout",
     "output_type": "stream",
     "text": [
      "               precision    recall  f1-score   support\n",
      "\n",
      "     business       1.00      0.93      0.97       105\n",
      "entertainment       0.98      0.92      0.95        91\n",
      "     politics       0.86      0.97      0.91        79\n",
      "        sport       1.00      1.00      1.00       101\n",
      "         tech       0.96      0.97      0.96        69\n",
      "\n",
      "     accuracy                           0.96       445\n",
      "    macro avg       0.96      0.96      0.96       445\n",
      " weighted avg       0.96      0.96      0.96       445\n",
      "\n"
     ]
    }
   ],
   "source": [
    "classificationReport = classification_report(y_test, predicted, target_names=corpus.target_names)\n",
    "print(classificationReport)"
   ]
  },
  {
   "cell_type": "markdown",
   "id": "95dffad5",
   "metadata": {},
   "source": [
    "(d) the accuracy, macro-average F1 and weighted-average F1 of the model (you can use accuracy score\n",
    "and f1 score)"
   ]
  },
  {
   "cell_type": "code",
   "execution_count": 404,
   "id": "950064eb",
   "metadata": {},
   "outputs": [],
   "source": [
    "accuracyScore = accuracy_score(y_test, predicted)\n",
    "macroF1Score = f1_score(y_test, predicted, average='macro')\n",
    "weightedF1Score = f1_score(y_test, predicted, average='weighted')"
   ]
  },
  {
   "cell_type": "markdown",
   "id": "cbb36976",
   "metadata": {},
   "source": [
    "(e) the prior probability of each class"
   ]
  },
  {
   "cell_type": "code",
   "execution_count": 405,
   "id": "b6bc1f0a",
   "metadata": {},
   "outputs": [
    {
     "name": "stdout",
     "output_type": "stream",
     "text": [
      "[405, 295, 338, 410, 332]\n",
      "[0.22752808988764045, 0.16573033707865167, 0.1898876404494382, 0.2303370786516854, 0.18651685393258427]\n"
     ]
    }
   ],
   "source": [
    "class_array = [0,0,0,0,0]\n",
    "for y in y_train:\n",
    "    if (y == 0):\n",
    "        class_array[0]+=1\n",
    "    if (y == 1):\n",
    "        class_array[1]+=1\n",
    "    if (y == 2):\n",
    "        class_array[2]+=1\n",
    "    if (y == 3):\n",
    "        class_array[3]+=1\n",
    "    if (y == 4):\n",
    "        class_array[4]+=1\n",
    "priors = [x / (len(y_train)) for x in class_array]\n",
    "\n",
    "print(class_array)\n",
    "print(priors)\n"
   ]
  },
  {
   "cell_type": "markdown",
   "id": "743d22e5",
   "metadata": {},
   "source": [
    "(f) the size of the vocabulary (i.e. the number of different words)"
   ]
  },
  {
   "cell_type": "code",
   "execution_count": 406,
   "id": "8271514f",
   "metadata": {},
   "outputs": [
    {
     "name": "stdout",
     "output_type": "stream",
     "text": [
      "29421\n"
     ]
    }
   ],
   "source": [
    "vocabularyLength = len(vectorizer.vocabulary_)\n",
    "print(vocabularyLength)"
   ]
  },
  {
   "cell_type": "markdown",
   "id": "18404c58",
   "metadata": {},
   "source": [
    "(g) the number of word-tokens in each class (i.e. the number of words in total)"
   ]
  },
  {
   "cell_type": "code",
   "execution_count": 407,
   "id": "8a83f4d3",
   "metadata": {},
   "outputs": [
    {
     "name": "stdout",
     "output_type": "stream",
     "text": [
      "70596903\n",
      "68146975\n",
      "62938590\n",
      "55867735\n",
      "73174753\n"
     ]
    }
   ],
   "source": [
    "enter_arr=[]\n",
    "tech_arr=[]\n",
    "sport_arr=[]\n",
    "politics_arr=[]\n",
    "business_arr=[]\n",
    "i = 0\n",
    "\n",
    "arr={'business':[],'entertainment':[],'politics':[],'sport':[],'tech':[]}\n",
    "    \n",
    "for data in corpus.target:  # for each class\n",
    "    if(data==0):\n",
    "        arr['business'].append(corpus.data[i])\n",
    "    if(data==1):\n",
    "        arr['entertainment'].append(corpus.data[i])\n",
    "    if(data==2):\n",
    "        arr['politics'].append(corpus.data[i])\n",
    "    if(data==3):\n",
    "        arr['sport'].append(corpus.data[i])\n",
    "    if(data==4):\n",
    "        arr['tech'].append(corpus.data[i])\n",
    "    i=i+1;\n",
    "\n",
    "total_business=0\n",
    "total_entertainment=0\n",
    "total_politics=0\n",
    "total_sport=0\n",
    "total_tech=0\n",
    "\n",
    "vectorizer2 = CountVectorizer()\n",
    "X = vectorizer2.fit_transform(arr['business'])\n",
    "\n",
    "business_arr=vectorizer2.vocabulary_\n",
    "for b in business_arr:\n",
    "    total_business+=vectorizer2.vocabulary_.get(b)\n",
    "\n",
    "vectorizer3 = CountVectorizer()\n",
    "X = vectorizer3.fit_transform(arr['entertainment'])\n",
    "entertainment_arr=vectorizer3.vocabulary_\n",
    "for e in entertainment_arr:\n",
    "    total_entertainment+=vectorizer3.vocabulary_.get(e)\n",
    "\n",
    "vectorizer4 = CountVectorizer()    \n",
    "X = vectorizer4.fit_transform(arr['politics'])\n",
    "politics_arr=vectorizer4.vocabulary_\n",
    "for p in politics_arr:\n",
    "    total_politics+=vectorizer4.vocabulary_.get(p)\n",
    "    \n",
    "vectorizer5 = CountVectorizer()    \n",
    "X = vectorizer5.fit_transform(arr['sport'])\n",
    "sport_arr=vectorizer5.vocabulary_\n",
    "for s in sport_arr:\n",
    "    total_sport+=vectorizer5.vocabulary_.get(s)\n",
    "        \n",
    "vectorizer6 = CountVectorizer()    \n",
    "X = vectorizer6.fit_transform(arr['tech'])\n",
    "tech_arr=vectorizer6.vocabulary_\n",
    "for t in tech_arr:\n",
    "    total_tech+=vectorizer6.vocabulary_.get(t)\n",
    "\n",
    "print(total_business)\n",
    "print(total_entertainment)\n",
    "print(total_politics)\n",
    "print(total_sport)\n",
    "print(total_tech)"
   ]
  },
  {
   "cell_type": "markdown",
   "id": "b0960ffe",
   "metadata": {},
   "source": [
    "(h) the number of word-tokens in the entire corpus"
   ]
  },
  {
   "cell_type": "code",
   "execution_count": 408,
   "id": "0056718f",
   "metadata": {},
   "outputs": [
    {
     "name": "stdout",
     "output_type": "stream",
     "text": [
      "330724956\n"
     ]
    }
   ],
   "source": [
    "total_word_tokens = total_business + total_entertainment + total_politics + total_sport + total_tech\n",
    "print(total_word_tokens)"
   ]
  },
  {
   "cell_type": "markdown",
   "id": "4bd040ca",
   "metadata": {},
   "source": [
    "(i) the number and percentage of words with a frequency of zero in each class\n",
    "\n",
    "(j) the number and percentage of words with a frequency of one in the entire corpus"
   ]
  },
  {
   "cell_type": "code",
   "execution_count": 409,
   "id": "fb7f2ba9",
   "metadata": {},
   "outputs": [
    {
     "name": "stdout",
     "output_type": "stream",
     "text": [
      "1 3.398932735121172e-05\n",
      "[17538, 17746, 18201, 18850, 17323] [0.5961048230855511, 0.6031746031746031, 0.6186397471194045, 0.6406988205703409, 0.5887971177050406]\n"
     ]
    }
   ],
   "source": [
    "wordsNotInClass = [[], [], [], [], []]\n",
    "wordsWithFrequencyOf1 = []\n",
    "for word in vectorizer.get_feature_names_out():\n",
    "    if (vectorizer2.vocabulary_.get(word) == None):\n",
    "        wordsNotInClass[0].append(word)\n",
    "    if (vectorizer3.vocabulary_.get(word) == None):\n",
    "        wordsNotInClass[1].append(word)\n",
    "    if (vectorizer4.vocabulary_.get(word) == None):\n",
    "        wordsNotInClass[2].append(word)\n",
    "    if (vectorizer5.vocabulary_.get(word) == None):\n",
    "        wordsNotInClass[3].append(word)\n",
    "    if (vectorizer6.vocabulary_.get(word) == None):\n",
    "        wordsNotInClass[4].append(word)\n",
    "    if (vectorizer.vocabulary_.get(word) == 1):\n",
    "        wordsWithFrequencyOf1.append(word)\n",
    "        \n",
    "numberOfWordsNotInClass = [0, 0, 0, 0, 0]\n",
    "numberOfPercentageNotInClass = [0, 0, 0, 0, 0]\n",
    "numberOfWordsWithFrequencyOf1 = len(wordsWithFrequencyOf1)\n",
    "percentageOfFrequencyOf1 = numberOfWordsWithFrequencyOf1 / len(vectorizer.get_feature_names_out())\n",
    "\n",
    "i = 0\n",
    "for words in wordsNotInClass:\n",
    "    numberOfWordsNotInClass[i] = len(words)\n",
    "    numberOfPercentageNotInClass[i] = len(words)/len(vectorizer.get_feature_names_out())\n",
    "    i+=1\n",
    "\n",
    "print(numberOfWordsWithFrequencyOf1, percentageOfFrequencyOf1)\n",
    "print(numberOfWordsNotInClass, numberOfPercentageNotInClass)"
   ]
  },
  {
   "cell_type": "markdown",
   "id": "a863dd41",
   "metadata": {},
   "source": [
    "(k) your 2 favorite words (that are present in the vocabulary) and their log-prob"
   ]
  },
  {
   "cell_type": "code",
   "execution_count": 410,
   "id": "36bcd12c",
   "metadata": {},
   "outputs": [
    {
     "name": "stdout",
     "output_type": "stream",
     "text": [
      "-6.811041940258892 -6.780363806354227 -6.711304659814024 -6.607792770198039 -6.842193171568534\n"
     ]
    }
   ],
   "source": [
    "zvyagintsevCount = vectorizer.vocabulary_.get('zvyagintsev')\n",
    "tateCount = vectorizer.vocabulary_.get('tate')\n",
    "businessLogProb = math.log((zvyagintsevCount/total_business), 10)  + math.log((tateCount/total_business), 10)\n",
    "entertainmentLogProb = math.log((zvyagintsevCount/total_entertainment), 10) + math.log((tateCount/total_entertainment), 10)\n",
    "politicLogProb = math.log((zvyagintsevCount/total_politics), 10) + math.log((tateCount/total_politics), 10)\n",
    "sportLogProb = math.log((zvyagintsevCount/total_sport), 10) + math.log((tateCount/total_sport), 10)\n",
    "techLogProb = math.log((zvyagintsevCount/total_tech), 10) + math.log((tateCount/total_tech), 10)\n",
    "\n",
    "print(businessLogProb, entertainmentLogProb, politicLogProb, sportLogProb, techLogProb)\n"
   ]
  },
  {
   "cell_type": "markdown",
   "id": "dd07716e",
   "metadata": {},
   "source": [
    "Write to `bbc-performance.txt`"
   ]
  },
  {
   "cell_type": "code",
   "execution_count": 411,
   "id": "d355f9ac",
   "metadata": {},
   "outputs": [
    {
     "data": {
      "text/plain": [
       "82"
      ]
     },
     "execution_count": 411,
     "metadata": {},
     "output_type": "execute_result"
    }
   ],
   "source": [
    "f = open('bbc-performance.txt', 'w')\n",
    "f.write('MultinomialNB default values, try 1\\n')\n",
    "f.write('---------------------------------------------------------------------------------\\n')\n",
    "f.write('b) Confusion matrix\\n')\n",
    "f.write(DataFrame(cmatrix).to_string() + '\\n')\n",
    "f.write('---------------------------------------------------------------------------------\\n')\n",
    "f.write('c) Classification Report\\n\\n')\n",
    "f.write(classificationReport + '\\n')\n",
    "f.write('---------------------------------------------------------------------------------\\n')\n",
    "f.write('d) Accuracy, Macro Average F1, Weighted Average\\n')\n",
    "f.write('accuracy: ' + str(accuracyScore) + '\\n')\n",
    "f.write('macro average f1: ' + str(macroF1Score) + '\\n')\n",
    "f.write('weighted average: ' + str(weightedF1Score) + '\\n')\n",
    "f.write('---------------------------------------------------------------------------------\\n')\n",
    "f.write('e) Prior Probabilities\\n')\n",
    "f.write('business: ' + str(priors[3]) + '\\n')\n",
    "f.write('entertainment: ' + str(priors[1]) + '\\n')\n",
    "f.write('politics: ' + str(priors[2]) + '\\n')\n",
    "f.write('sports: ' + str(priors[4]) + '\\n')\n",
    "f.write('tech: ' + str(priors[0]) + '\\n')\n",
    "f.write('---------------------------------------------------------------------------------\\n')\n",
    "f.write('f) Size of vocabulary\\n')\n",
    "f.write('size of vocabulary: ' + str(vocabularyLength) + '\\n')\n",
    "f.write('---------------------------------------------------------------------------------\\n')\n",
    "f.write('g) Number of words-tokens in each class\\n')\n",
    "f.write('business: ' + str(total_business) + '\\n')\n",
    "f.write('entertainment: ' + str(total_entertainment) + '\\n')\n",
    "f.write('politics: ' + str(total_politics) + '\\n')\n",
    "f.write('sport: ' + str(total_sport) + '\\n')\n",
    "f.write('tech: ' + str(total_tech) + '\\n')\n",
    "f.write('---------------------------------------------------------------------------------\\n')\n",
    "f.write('h) Number of words-tokens in entire corpus\\n')\n",
    "f.write(str(total_word_tokens) + '\\n')\n",
    "f.write('---------------------------------------------------------------------------------\\n')\n",
    "f.write('i) Number and percentage of words with a frequency of zero in each class\\n')\n",
    "f.write('business: ' + str(numberOfWordsNotInClass[0]) + ' words | ' + str(numberOfPercentageNotInClass[0]) + ' percentage' + '\\n')\n",
    "f.write('entertainment: ' + str(numberOfWordsNotInClass[1]) + ' words | ' + str(numberOfPercentageNotInClass[1]) + ' percentage' + '\\n')\n",
    "f.write('politics: ' + str(numberOfWordsNotInClass[2]) + ' words | ' + str(numberOfPercentageNotInClass[2]) + ' percentage' + '\\n')\n",
    "f.write('sport: ' + str(numberOfWordsNotInClass[3]) + ' words | ' + str(numberOfPercentageNotInClass[3]) + ' percentage' + '\\n')\n",
    "f.write('tech: ' + str(numberOfWordsNotInClass[4]) + ' words | ' + str(numberOfPercentageNotInClass[4]) + ' percentage' + '\\n')\n",
    "f.write('---------------------------------------------------------------------------------\\n')\n",
    "f.write('j) Number and percentage of words with a frequency of one in the entire corpus\\n')\n",
    "f.write(str(numberOfWordsWithFrequencyOf1) +'words | ' + str(percentageOfFrequencyOf1) + ' percentage' + '\\n')\n",
    "f.write('---------------------------------------------------------------------------------\\n')\n",
    "f.write('k) Our 2 favorite words and their log-prob \\n')\n",
    "f.write('Our favorite words are tate and zvyagintsevCount. \\n')\n",
    "f.write('business log probability: ' + str(businessLogProb) + '\\n')\n",
    "f.write('entertainment log probability: ' + str(entertainmentLogProb) + '\\n')\n",
    "f.write('politics log probability: ' + str(politicLogProb) + '\\n')\n",
    "f.write('sport log probability: ' + str(sportLogProb) + '\\n')\n",
    "f.write('tech log probability: ' + str(techLogProb) + '\\n')\n",
    "f.write('---------------------------------------------------------------------------------\\n')"
   ]
  },
  {
   "cell_type": "markdown",
   "id": "5cac3a81",
   "metadata": {},
   "source": [
    "8. Redo steps 6 and 7 without changing anything (do not redo step 5, the dataset split). Change the\n",
    "model name to something like “MultinomialNB default values, try 2” and append the results to the file\n",
    "bbc-performance.txt."
   ]
  },
  {
   "cell_type": "code",
   "execution_count": 412,
   "id": "14dd21d3",
   "metadata": {},
   "outputs": [],
   "source": [
    "clf = MultinomialNB()\n",
    "clf.fit(X_train, y_train)\n",
    "predicted = clf.predict(X_test)"
   ]
  },
  {
   "cell_type": "markdown",
   "id": "ab834153",
   "metadata": {},
   "source": [
    "(b) the confusion matrix (you can use confusion matrix)"
   ]
  },
  {
   "cell_type": "code",
   "execution_count": 413,
   "id": "ec9a3dc6",
   "metadata": {},
   "outputs": [],
   "source": [
    "cmatrix = confusion_matrix(y_test, predicted)"
   ]
  },
  {
   "cell_type": "markdown",
   "id": "2e6d6856",
   "metadata": {},
   "source": [
    "(c) the precision, recall, and F1-measure for each class (you can use classification report)\n"
   ]
  },
  {
   "cell_type": "code",
   "execution_count": 414,
   "id": "3ab9d503",
   "metadata": {},
   "outputs": [
    {
     "name": "stdout",
     "output_type": "stream",
     "text": [
      "               precision    recall  f1-score   support\n",
      "\n",
      "     business       1.00      0.93      0.97       105\n",
      "entertainment       0.98      0.92      0.95        91\n",
      "     politics       0.86      0.97      0.91        79\n",
      "        sport       1.00      1.00      1.00       101\n",
      "         tech       0.96      0.97      0.96        69\n",
      "\n",
      "     accuracy                           0.96       445\n",
      "    macro avg       0.96      0.96      0.96       445\n",
      " weighted avg       0.96      0.96      0.96       445\n",
      "\n"
     ]
    }
   ],
   "source": [
    "classificationReport = classification_report(y_test, predicted, target_names=corpus.target_names)\n",
    "print(classificationReport)"
   ]
  },
  {
   "cell_type": "markdown",
   "id": "62cf1d93",
   "metadata": {},
   "source": [
    "(d) the accuracy, macro-average F1 and weighted-average F1 of the model (you can use accuracy score\n",
    "and f1 score)"
   ]
  },
  {
   "cell_type": "code",
   "execution_count": 415,
   "id": "81b05304",
   "metadata": {},
   "outputs": [],
   "source": [
    "accuracyScore = accuracy_score(y_test, predicted)\n",
    "macroF1Score = f1_score(y_test, predicted, average='macro')\n",
    "weightedF1Score = f1_score(y_test, predicted, average='weighted')"
   ]
  },
  {
   "cell_type": "markdown",
   "id": "0e38aad5",
   "metadata": {},
   "source": [
    "Write to `bbc-performance.txt`"
   ]
  },
  {
   "cell_type": "code",
   "execution_count": 416,
   "id": "145992e0",
   "metadata": {},
   "outputs": [
    {
     "data": {
      "text/plain": [
       "82"
      ]
     },
     "execution_count": 416,
     "metadata": {},
     "output_type": "execute_result"
    }
   ],
   "source": [
    "f.write('\\n')\n",
    "f.write('\\n')\n",
    "f.write('---------------------------------------------------------------------------------\\n')\n",
    "f.write('---------------------------------------------------------------------------------\\n')\n",
    "f.write('\\n')\n",
    "f.write('\\n')\n",
    "f.write('MultinomialNB default values, try 2\\n')\n",
    "f.write('---------------------------------------------------------------------------------\\n')\n",
    "f.write('b) Confusion matrix\\n')\n",
    "f.write(DataFrame(cmatrix).to_string() + '\\n')\n",
    "f.write('---------------------------------------------------------------------------------\\n')\n",
    "f.write('c) Classification Report\\n\\n')\n",
    "f.write(classificationReport + '\\n')\n",
    "f.write('---------------------------------------------------------------------------------\\n')\n",
    "f.write('d) Accuracy, Macro Average F1, Weighted Average\\n')\n",
    "f.write('accuracy: ' + str(accuracyScore) + '\\n')\n",
    "f.write('macro average f1: ' + str(macroF1Score) + '\\n')\n",
    "f.write('weighted average: ' + str(weightedF1Score) + '\\n')\n",
    "f.write('---------------------------------------------------------------------------------\\n')\n",
    "f.write('e) Prior Probabilities\\n')\n",
    "f.write('business: ' + str(priors[3]) + '\\n')\n",
    "f.write('entertainment: ' + str(priors[1]) + '\\n')\n",
    "f.write('politics: ' + str(priors[2]) + '\\n')\n",
    "f.write('sports: ' + str(priors[4]) + '\\n')\n",
    "f.write('tech: ' + str(priors[0]) + '\\n')\n",
    "f.write('---------------------------------------------------------------------------------\\n')\n",
    "f.write('f) Size of vocabulary\\n')\n",
    "f.write('size of vocabulary: ' + str(vocabularyLength) + '\\n')\n",
    "f.write('---------------------------------------------------------------------------------\\n')\n",
    "f.write('g) Number of words-tokens in each class\\n')\n",
    "f.write('business: ' + str(total_business) + '\\n')\n",
    "f.write('entertainment: ' + str(total_entertainment) + '\\n')\n",
    "f.write('politics: ' + str(total_politics) + '\\n')\n",
    "f.write('sport: ' + str(total_sport) + '\\n')\n",
    "f.write('tech: ' + str(total_tech) + '\\n')\n",
    "f.write('---------------------------------------------------------------------------------\\n')\n",
    "f.write('h) Number of words-tokens in entire corpus\\n')\n",
    "f.write(str(total_word_tokens) + '\\n')\n",
    "f.write('---------------------------------------------------------------------------------\\n')\n",
    "f.write('i) Number and percentage of words with a frequency of zero in each class\\n')\n",
    "f.write('business: ' + str(numberOfWordsNotInClass[0]) + ' words | ' + str(numberOfPercentageNotInClass[0]) + ' percentage' + '\\n')\n",
    "f.write('entertainment: ' + str(numberOfWordsNotInClass[1]) + ' words | ' + str(numberOfPercentageNotInClass[1]) + ' percentage' + '\\n')\n",
    "f.write('politics: ' + str(numberOfWordsNotInClass[2]) + ' words | ' + str(numberOfPercentageNotInClass[2]) + ' percentage' + '\\n')\n",
    "f.write('sport: ' + str(numberOfWordsNotInClass[3]) + ' words | ' + str(numberOfPercentageNotInClass[3]) + ' percentage' + '\\n')\n",
    "f.write('tech: ' + str(numberOfWordsNotInClass[4]) + ' words | ' + str(numberOfPercentageNotInClass[4]) + ' percentage' + '\\n')\n",
    "f.write('---------------------------------------------------------------------------------\\n')\n",
    "f.write('j) Number and percentage of words with a frequency of one in the entire corpus\\n')\n",
    "f.write(str(numberOfWordsWithFrequencyOf1) +'words | ' + str(percentageOfFrequencyOf1) + ' percentage' + '\\n')\n",
    "f.write('---------------------------------------------------------------------------------\\n')\n",
    "f.write('k) Our 2 favorite words and their log-prob \\n')\n",
    "f.write('Our favorite words are tate and zvyagintsevCount. \\n')\n",
    "f.write('business log probability: ' + str(businessLogProb) + '\\n')\n",
    "f.write('entertainment log probability: ' + str(entertainmentLogProb) + '\\n')\n",
    "f.write('politics log probability: ' + str(politicLogProb) + '\\n')\n",
    "f.write('sport log probability: ' + str(sportLogProb) + '\\n')\n",
    "f.write('tech log probability: ' + str(techLogProb) + '\\n')\n",
    "f.write('---------------------------------------------------------------------------------\\n')"
   ]
  },
  {
   "cell_type": "markdown",
   "id": "8448b9fc",
   "metadata": {},
   "source": [
    "9. Redo steps 6 and 7 again, but this time, change the smoothing value to 0.0001. Append the results at the\n",
    "end of bbc-performance.txt"
   ]
  },
  {
   "cell_type": "code",
   "execution_count": 417,
   "id": "67ffc0de",
   "metadata": {},
   "outputs": [],
   "source": [
    "clf = MultinomialNB()\n",
    "smoothing_param = {'alpha': 0.0001}\n",
    "clf.set_params(**smoothing_param)\n",
    "clf.fit(X_train, y_train)\n",
    "predicted = clf.predict(X_test)"
   ]
  },
  {
   "cell_type": "markdown",
   "id": "c266dc05",
   "metadata": {},
   "source": [
    "(b) the confusion matrix (you can use confusion matrix)"
   ]
  },
  {
   "cell_type": "code",
   "execution_count": 418,
   "id": "a2591b45",
   "metadata": {},
   "outputs": [],
   "source": [
    "cmatrix = confusion_matrix(y_test, predicted)"
   ]
  },
  {
   "cell_type": "markdown",
   "id": "46d301e4",
   "metadata": {},
   "source": [
    "(c) the precision, recall, and F1-measure for each class (you can use classification report)\n"
   ]
  },
  {
   "cell_type": "code",
   "execution_count": 419,
   "id": "44bdc816",
   "metadata": {},
   "outputs": [
    {
     "name": "stdout",
     "output_type": "stream",
     "text": [
      "               precision    recall  f1-score   support\n",
      "\n",
      "     business       1.00      0.91      0.96       105\n",
      "entertainment       0.98      0.95      0.96        91\n",
      "     politics       0.89      0.97      0.93        79\n",
      "        sport       1.00      1.00      1.00       101\n",
      "         tech       0.92      0.97      0.94        69\n",
      "\n",
      "     accuracy                           0.96       445\n",
      "    macro avg       0.96      0.96      0.96       445\n",
      " weighted avg       0.96      0.96      0.96       445\n",
      "\n"
     ]
    }
   ],
   "source": [
    "classificationReport = classification_report(y_test, predicted, target_names=corpus.target_names)\n",
    "print(classificationReport)"
   ]
  },
  {
   "cell_type": "markdown",
   "id": "a0c45990",
   "metadata": {},
   "source": [
    "(d) the accuracy, macro-average F1 and weighted-average F1 of the model (you can use accuracy score\n",
    "and f1 score)"
   ]
  },
  {
   "cell_type": "code",
   "execution_count": 420,
   "id": "830a83e6",
   "metadata": {},
   "outputs": [],
   "source": [
    "accuracyScore = accuracy_score(y_test, predicted)\n",
    "macroF1Score = f1_score(y_test, predicted, average='macro')\n",
    "weightedF1Score = f1_score(y_test, predicted, average='weighted')"
   ]
  },
  {
   "cell_type": "markdown",
   "id": "a3ca051d",
   "metadata": {},
   "source": [
    "Write to `bbc-performance.txt`"
   ]
  },
  {
   "cell_type": "code",
   "execution_count": 421,
   "id": "266af858",
   "metadata": {},
   "outputs": [
    {
     "data": {
      "text/plain": [
       "82"
      ]
     },
     "execution_count": 421,
     "metadata": {},
     "output_type": "execute_result"
    }
   ],
   "source": [
    "f.write('\\n')\n",
    "f.write('\\n')\n",
    "f.write('---------------------------------------------------------------------------------\\n')\n",
    "f.write('---------------------------------------------------------------------------------\\n')\n",
    "f.write('\\n')\n",
    "f.write('\\n')\n",
    "f.write('MultinomialNB with smoothing = 0.0001\\n')\n",
    "f.write('---------------------------------------------------------------------------------\\n')\n",
    "f.write('b) Confusion matrix\\n')\n",
    "f.write(DataFrame(cmatrix).to_string() + '\\n')\n",
    "f.write('---------------------------------------------------------------------------------\\n')\n",
    "f.write('c) Classification Report\\n\\n')\n",
    "f.write(classificationReport + '\\n')\n",
    "f.write('---------------------------------------------------------------------------------\\n')\n",
    "f.write('d) Accuracy, Macro Average F1, Weighted Average\\n')\n",
    "f.write('accuracy: ' + str(accuracyScore) + '\\n')\n",
    "f.write('macro average f1: ' + str(macroF1Score) + '\\n')\n",
    "f.write('weighted average: ' + str(weightedF1Score) + '\\n')\n",
    "f.write('---------------------------------------------------------------------------------\\n')\n",
    "f.write('e) Prior Probabilities\\n')\n",
    "f.write('business: ' + str(priors[3]) + '\\n')\n",
    "f.write('entertainment: ' + str(priors[1]) + '\\n')\n",
    "f.write('politics: ' + str(priors[2]) + '\\n')\n",
    "f.write('sports: ' + str(priors[4]) + '\\n')\n",
    "f.write('tech: ' + str(priors[0]) + '\\n')\n",
    "f.write('---------------------------------------------------------------------------------\\n')\n",
    "f.write('f) Size of vocabulary\\n')\n",
    "f.write('size of vocabulary: ' + str(vocabularyLength) + '\\n')\n",
    "f.write('---------------------------------------------------------------------------------\\n')\n",
    "f.write('g) Number of words-tokens in each class\\n')\n",
    "f.write('business: ' + str(total_business) + '\\n')\n",
    "f.write('entertainment: ' + str(total_entertainment) + '\\n')\n",
    "f.write('politics: ' + str(total_politics) + '\\n')\n",
    "f.write('sport: ' + str(total_sport) + '\\n')\n",
    "f.write('tech: ' + str(total_tech) + '\\n')\n",
    "f.write('---------------------------------------------------------------------------------\\n')\n",
    "f.write('h) Number of words-tokens in entire corpus\\n')\n",
    "f.write(str(total_word_tokens) +'\\n')\n",
    "f.write('---------------------------------------------------------------------------------\\n')\n",
    "f.write('i) Number and percentage of words with a frequency of zero in each class\\n')\n",
    "f.write('business: ' + str(numberOfWordsNotInClass[0]) + ' words | ' + str(numberOfPercentageNotInClass[0]) + ' percentage' + '\\n')\n",
    "f.write('entertainment: ' + str(numberOfWordsNotInClass[1]) + ' words | ' + str(numberOfPercentageNotInClass[1]) + ' percentage' + '\\n')\n",
    "f.write('politics: ' + str(numberOfWordsNotInClass[2]) + ' words | ' + str(numberOfPercentageNotInClass[2]) + ' percentage' + '\\n')\n",
    "f.write('sport: ' + str(numberOfWordsNotInClass[3]) + ' words | ' + str(numberOfPercentageNotInClass[3]) + ' percentage' + '\\n')\n",
    "f.write('tech: ' + str(numberOfWordsNotInClass[4]) + ' words | ' + str(numberOfPercentageNotInClass[4]) + ' percentage' + '\\n')\n",
    "f.write('---------------------------------------------------------------------------------\\n')\n",
    "f.write('j) Number and percentage of words with a frequency of one in the entire corpus\\n')\n",
    "f.write(str(numberOfWordsWithFrequencyOf1) +'words | ' + str(percentageOfFrequencyOf1) + ' percentage' + '\\n')\n",
    "f.write('---------------------------------------------------------------------------------\\n')\n",
    "f.write('k) Our 2 favorite words and their log-prob \\n')\n",
    "f.write('Our favorite words are tate and zvyagintsevCount. \\n')\n",
    "f.write('business log probability: ' + str(businessLogProb) + '\\n')\n",
    "f.write('entertainment log probability: ' + str(entertainmentLogProb) + '\\n')\n",
    "f.write('politics log probability: ' + str(politicLogProb) + '\\n')\n",
    "f.write('sport log probability: ' + str(sportLogProb) + '\\n')\n",
    "f.write('tech log probability: ' + str(techLogProb) + '\\n')\n",
    "f.write('---------------------------------------------------------------------------------\\n')"
   ]
  },
  {
   "cell_type": "markdown",
   "id": "70dda62c",
   "metadata": {},
   "source": [
    "10. Redo steps 6 and 7, but this time, change the smoothing value to 0.9. Append the results at the end of\n",
    "bbc-performance.txt."
   ]
  },
  {
   "cell_type": "code",
   "execution_count": 422,
   "id": "dc633e39",
   "metadata": {},
   "outputs": [],
   "source": [
    "clf = MultinomialNB()\n",
    "smoothing_param = {'alpha': 0.9}\n",
    "clf.set_params(**smoothing_param)\n",
    "clf.fit(X_train, y_train)\n",
    "predicted = clf.predict(X_test)"
   ]
  },
  {
   "cell_type": "markdown",
   "id": "3366214b",
   "metadata": {},
   "source": [
    "(b) the confusion matrix (you can use confusion matrix)"
   ]
  },
  {
   "cell_type": "code",
   "execution_count": 423,
   "id": "2a762351",
   "metadata": {},
   "outputs": [],
   "source": [
    "cmatrix = confusion_matrix(y_test, predicted)"
   ]
  },
  {
   "cell_type": "markdown",
   "id": "c2d0909b",
   "metadata": {},
   "source": [
    "(c) the precision, recall, and F1-measure for each class (you can use classification report)\n"
   ]
  },
  {
   "cell_type": "code",
   "execution_count": 424,
   "id": "ca541646",
   "metadata": {},
   "outputs": [
    {
     "name": "stdout",
     "output_type": "stream",
     "text": [
      "               precision    recall  f1-score   support\n",
      "\n",
      "     business       1.00      0.93      0.97       105\n",
      "entertainment       0.98      0.92      0.95        91\n",
      "     politics       0.86      0.97      0.91        79\n",
      "        sport       1.00      1.00      1.00       101\n",
      "         tech       0.96      0.97      0.96        69\n",
      "\n",
      "     accuracy                           0.96       445\n",
      "    macro avg       0.96      0.96      0.96       445\n",
      " weighted avg       0.96      0.96      0.96       445\n",
      "\n"
     ]
    }
   ],
   "source": [
    "classificationReport = classification_report(y_test, predicted, target_names=corpus.target_names)\n",
    "print(classificationReport)"
   ]
  },
  {
   "cell_type": "markdown",
   "id": "2d3ec2c4",
   "metadata": {},
   "source": [
    "(d) the accuracy, macro-average F1 and weighted-average F1 of the model (you can use accuracy score\n",
    "and f1 score)"
   ]
  },
  {
   "cell_type": "code",
   "execution_count": 425,
   "id": "5aa6e581",
   "metadata": {},
   "outputs": [],
   "source": [
    "accuracyScore = accuracy_score(y_test, predicted)\n",
    "macroF1Score = f1_score(y_test, predicted, average='macro')\n",
    "weightedF1Score = f1_score(y_test, predicted, average='weighted')"
   ]
  },
  {
   "cell_type": "markdown",
   "id": "5e30ec1e",
   "metadata": {},
   "source": [
    "(e) the prior probability of each class"
   ]
  },
  {
   "cell_type": "code",
   "execution_count": 426,
   "id": "f904e9f5",
   "metadata": {},
   "outputs": [],
   "source": [
    "priors = [x / (len(corpus.target)) for x in all_array]"
   ]
  },
  {
   "cell_type": "markdown",
   "id": "fc044ff3",
   "metadata": {},
   "source": [
    "(f) the size of the vocabulary (i.e. the number of different words)"
   ]
  },
  {
   "cell_type": "code",
   "execution_count": 427,
   "id": "fa5a0bd3",
   "metadata": {},
   "outputs": [],
   "source": [
    "vocabularyLength = len((vectorizer.vocabulary_))"
   ]
  },
  {
   "cell_type": "markdown",
   "id": "5b6e15fc",
   "metadata": {},
   "source": [
    "Write to `bbc-performance.txt`"
   ]
  },
  {
   "cell_type": "code",
   "execution_count": 428,
   "id": "dfb467fc",
   "metadata": {},
   "outputs": [],
   "source": [
    "f.write('\\n')\n",
    "f.write('\\n')\n",
    "f.write('---------------------------------------------------------------------------------\\n')\n",
    "f.write('---------------------------------------------------------------------------------\\n')\n",
    "f.write('\\n')\n",
    "f.write('\\n')\n",
    "f.write('MultinomialNB with smoothing = 0.9\\n')\n",
    "f.write('---------------------------------------------------------------------------------\\n')\n",
    "f.write('b) Confusion matrix\\n')\n",
    "f.write(DataFrame(cmatrix).to_string() + '\\n')\n",
    "f.write('---------------------------------------------------------------------------------\\n')\n",
    "f.write('c) Classification Report\\n\\n')\n",
    "f.write(classificationReport + '\\n')\n",
    "f.write('---------------------------------------------------------------------------------\\n')\n",
    "f.write('d) Accuracy, Macro Average F1, Weighted Average\\n')\n",
    "f.write('accuracy: ' + str(accuracyScore) + '\\n')\n",
    "f.write('macro average f1: ' + str(macroF1Score) + '\\n')\n",
    "f.write('weighted average: ' + str(weightedF1Score) + '\\n')\n",
    "f.write('---------------------------------------------------------------------------------\\n')\n",
    "f.write('e) Prior Probabilities\\n')\n",
    "f.write('business: ' + str(priors[3]) + '\\n')\n",
    "f.write('entertainment: ' + str(priors[1]) + '\\n')\n",
    "f.write('politics: ' + str(priors[2]) + '\\n')\n",
    "f.write('sports: ' + str(priors[4]) + '\\n')\n",
    "f.write('tech: ' + str(priors[0]) + '\\n')\n",
    "f.write('---------------------------------------------------------------------------------\\n')\n",
    "f.write('f) Size of vocabulary\\n')\n",
    "f.write('size of vocabulary: ' + str(vocabularyLength) + '\\n')\n",
    "f.write('---------------------------------------------------------------------------------\\n')\n",
    "f.write('g) Number of words-tokens in each class\\n')\n",
    "f.write('business: ' + str(total_business) + '\\n')\n",
    "f.write('entertainment: ' + str(total_entertainment) + '\\n')\n",
    "f.write('politics: ' + str(total_politics) + '\\n')\n",
    "f.write('sport: ' + str(total_sport) + '\\n')\n",
    "f.write('tech: ' + str(total_tech) + '\\n')\n",
    "f.write('---------------------------------------------------------------------------------\\n')\n",
    "f.write('h) Number of words-tokens in entire corpus\\n')\n",
    "f.write(str(total_word_tokens) + '\\n')\n",
    "f.write('---------------------------------------------------------------------------------\\n')\n",
    "f.write('i) Number and percentage of words with a frequency of zero in each class\\n')\n",
    "f.write('business: ' + str(numberOfWordsNotInClass[0]) + ' words | ' + str(numberOfPercentageNotInClass[0]) + ' percentage' + '\\n')\n",
    "f.write('entertainment: ' + str(numberOfWordsNotInClass[1]) + ' words | ' + str(numberOfPercentageNotInClass[1]) + ' percentage' + '\\n')\n",
    "f.write('politics: ' + str(numberOfWordsNotInClass[2]) + ' words | ' + str(numberOfPercentageNotInClass[2]) + ' percentage' + '\\n')\n",
    "f.write('sport: ' + str(numberOfWordsNotInClass[3]) + ' words | ' + str(numberOfPercentageNotInClass[3]) + ' percentage' + '\\n')\n",
    "f.write('tech: ' + str(numberOfWordsNotInClass[4]) + ' words | ' + str(numberOfPercentageNotInClass[4]) + ' percentage' + '\\n')\n",
    "f.write('---------------------------------------------------------------------------------\\n')\n",
    "f.write('j) Number and percentage of words with a frequency of one in the entire corpus\\n')\n",
    "f.write(str(numberOfWordsWithFrequencyOf1) +'words | ' + str(percentageOfFrequencyOf1) + ' percentage' + '\\n')\n",
    "f.write('---------------------------------------------------------------------------------\\n')\n",
    "f.write('k) Our 2 favorite words and their log-prob \\n')\n",
    "f.write('Our favorite words are tate and zvyagintsevCount. \\n')\n",
    "f.write('business log probability: ' + str(businessLogProb) + '\\n')\n",
    "f.write('entertainment log probability: ' + str(entertainmentLogProb) + '\\n')\n",
    "f.write('politics log probability: ' + str(politicLogProb) + '\\n')\n",
    "f.write('sport log probability: ' + str(sportLogProb) + '\\n')\n",
    "f.write('tech log probability: ' + str(techLogProb) + '\\n')\n",
    "f.write('---------------------------------------------------------------------------------\\n')\n",
    "f.close()"
   ]
  }
 ],
 "metadata": {
  "interpreter": {
   "hash": "110646fc04d8eb4b472f783b11b2cd66382864c9ecb559c878e82b087fcce6fc"
  },
  "kernelspec": {
   "display_name": "Python 3 (ipykernel)",
   "language": "python",
   "name": "python3"
  },
  "language_info": {
   "codemirror_mode": {
    "name": "ipython",
    "version": 3
   },
   "file_extension": ".py",
   "mimetype": "text/x-python",
   "name": "python",
   "nbconvert_exporter": "python",
   "pygments_lexer": "ipython3",
   "version": "3.8.10"
  }
 },
 "nbformat": 4,
 "nbformat_minor": 5
}
