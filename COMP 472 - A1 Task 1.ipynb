{
 "cells": [
  {
   "cell_type": "markdown",
   "id": "2bf57f80",
   "metadata": {},
   "source": [
    "#### Fall 2021 | COMP 4721"
   ]
  },
  {
   "cell_type": "markdown",
   "id": "3259843f",
   "metadata": {},
   "source": [
    "## Mini-Project 1\n",
    "\n",
    "#### Wei Chen Huang, Ian Phillips, Beatrice Cobo\n",
    "---"
   ]
  },
  {
   "cell_type": "markdown",
   "id": "136d8fc2",
   "metadata": {},
   "source": [
    "### Task 1\n",
    "\n",
    "import statements for necessary libraries"
   ]
  },
  {
   "cell_type": "code",
   "execution_count": 1,
   "id": "4ffb4d51",
   "metadata": {},
   "outputs": [],
   "source": [
    "import numpy as np\n",
    "import os\n",
    "from sklearn.datasets import load_files\n",
    "from sklearn.feature_extraction.text import CountVectorizer\n",
    "from sklearn.model_selection import train_test_split\n",
    "from sklearn.naive_bayes import MultinomialNB\n",
    "import matplotlib.pyplot as plt\n",
    "from sklearn.metrics import confusion_matrix\n",
    "from sklearn.metrics import classification_report\n",
    "from sklearn.metrics import accuracy_score\n",
    "from sklearn.metrics import f1_score\n",
    "from pandas import *\n",
    "%matplotlib inline"
   ]
  },
  {
   "cell_type": "markdown",
   "id": "2ef37910",
   "metadata": {},
   "source": [
    "2. Plot the distribution of the instances in each class and save the graphic in a file called BBC-distribution.pdf.\n",
    "You may want to use matplotlib.pyplot and savefig to do this. This pre-analysis of the data set will\n",
    "allow you to determine if the classes are balanced, and which metric is more appropriate to use to evaluate\n",
    "the performance of your classifier."
   ]
  },
  {
   "cell_type": "code",
   "execution_count": 13,
   "id": "12b58c30",
   "metadata": {},
   "outputs": [
    {
     "name": "stdout",
     "output_type": "stream",
     "text": [
      "[401, 386, 417, 510, 511]\n"
     ]
    },
    {
     "data": {
      "image/png": "[encoded data removed]",
      "text/plain": [
       "<Figure size 432x288 with 1 Axes>"
      ]
     },
     "metadata": {
      "needs_background": "light"
     },
     "output_type": "display_data"
    }
   ],
   "source": [
    "datadir=\"BBC\"\n",
    "categories=[\"tech\", \"entertainment\", \"politics\", \"business\", \"sport\"]\n",
    "txt_array=[];\n",
    "all_array=[];\n",
    "for category in categories:  # for each class\n",
    "    path = os.path.join(datadir,category)  # create path to class\n",
    "    for txt in os.listdir(path):  # iterate over each text file per class\n",
    "        txt_array.append(txt)\n",
    "    all_array.append(len(txt_array))\n",
    "    txt_array=[]\n",
    "fig = plt.figure()\n",
    "plt.bar(categories,all_array)\n",
    "fig.savefig('BBC-distribution.pdf', dpi=fig.dpi)"
   ]
  },
  {
   "cell_type": "markdown",
   "id": "764d3f1a",
   "metadata": {},
   "source": [
    "3. Load the corpus using load files and make sure you set the encoding to latin1. This will read the file\n",
    "structure and assign the category name to each file from their parent directory name."
   ]
  },
  {
   "cell_type": "code",
   "execution_count": 3,
   "id": "24c608f2",
   "metadata": {},
   "outputs": [],
   "source": [
    "corpus=load_files(container_path=datadir,encoding=\"latin1\")"
   ]
  },
  {
   "cell_type": "markdown",
   "id": "63b379d1",
   "metadata": {},
   "source": [
    "4. Pre-process the dataset to have the features ready to be used by a multinomial Naive Bayes classifier. This\n",
    "means that the frequency of each word in each class must be computed and stored in a term-document\n",
    "matrix. For this, you can use feature extraction.text.CountVectorizer."
   ]
  },
  {
   "cell_type": "code",
   "execution_count": 4,
   "id": "5705c7aa",
   "metadata": {},
   "outputs": [],
   "source": [
    "vectorizer = CountVectorizer()\n",
    "X = vectorizer.fit_transform(corpus.data)"
   ]
  },
  {
   "cell_type": "markdown",
   "id": "fc12f7c8",
   "metadata": {},
   "source": [
    "5. Split the dataset into 80% for training and 20% for testing. For this, you must use train test split with\n",
    "the parameter random state set to None."
   ]
  },
  {
   "cell_type": "code",
   "execution_count": 5,
   "id": "a9f00608",
   "metadata": {},
   "outputs": [],
   "source": [
    "X_train, X_test, y_train, y_test = train_test_split(X,corpus.target, test_size=0.2,random_state=None)"
   ]
  },
  {
   "cell_type": "markdown",
   "id": "10bd106d",
   "metadata": {},
   "source": [
    "6. Train a multinomial Naive Bayes Classifier (naive bayes.MultinomialNB) on the training set using the\n",
    "default parameters and evaluate it on the test set."
   ]
  },
  {
   "cell_type": "code",
   "execution_count": 6,
   "id": "decf128c",
   "metadata": {},
   "outputs": [],
   "source": [
    "clf = MultinomialNB()\n",
    "clf.fit(X_train, y_train)\n",
    "predicted = clf.predict(X_test)"
   ]
  },
  {
   "cell_type": "markdown",
   "id": "8b129741",
   "metadata": {},
   "source": [
    "7. In a file called bbc-performance.txt, save the following information: (to make it easier for the TAs, make\n",
    "sure that your output for each sub-question below is clearly marked in your output file, using the headings\n",
    "(a), (b) . . .)\n"
   ]
  },
  {
   "cell_type": "markdown",
   "id": "4918c135",
   "metadata": {},
   "source": [
    "(b) the confusion matrix (you can use confusion matrix)"
   ]
  },
  {
   "cell_type": "code",
   "execution_count": 7,
   "id": "c30d7b6b",
   "metadata": {},
   "outputs": [
    {
     "data": {
      "text/plain": [
       "array([[91,  0,  3,  0,  1],\n",
       "       [ 1, 78,  0,  0,  1],\n",
       "       [ 1,  1, 80,  0,  0],\n",
       "       [ 0,  0,  1, 99,  0],\n",
       "       [ 0,  0,  0,  0, 88]], dtype=int64)"
      ]
     },
     "execution_count": 7,
     "metadata": {},
     "output_type": "execute_result"
    }
   ],
   "source": [
    "cmatrix = confusion_matrix(y_test, predicted)"
   ]
  },
  {
   "cell_type": "markdown",
   "id": "36dba303",
   "metadata": {},
   "source": [
    "(c) the precision, recall, and F1-measure for each class (you can use classification report)\n"
   ]
  },
  {
   "cell_type": "code",
   "execution_count": 8,
   "id": "3fa843b3",
   "metadata": {},
   "outputs": [
    {
     "name": "stdout",
     "output_type": "stream",
     "text": [
      "               precision    recall  f1-score   support\n",
      "\n",
      "     business       0.98      0.96      0.97        95\n",
      "entertainment       0.99      0.97      0.98        80\n",
      "     politics       0.95      0.98      0.96        82\n",
      "        sport       1.00      0.99      0.99       100\n",
      "         tech       0.98      1.00      0.99        88\n",
      "\n",
      "     accuracy                           0.98       445\n",
      "    macro avg       0.98      0.98      0.98       445\n",
      " weighted avg       0.98      0.98      0.98       445\n",
      "\n"
     ]
    }
   ],
   "source": [
    "classificationReport = classification_report(y_test, predicted, target_names=corpus.target_names)\n",
    "print(classificationReport)"
   ]
  },
  {
   "cell_type": "markdown",
   "id": "95dffad5",
   "metadata": {},
   "source": [
    "(d) the accuracy, macro-average F1 and weighted-average F1 of the model (you can use accuracy score\n",
    "and f1 score)"
   ]
  },
  {
   "cell_type": "code",
   "execution_count": 9,
   "id": "950064eb",
   "metadata": {},
   "outputs": [],
   "source": [
    "accuracyScore = accuracy_score(y_test, predicted)\n",
    "macroF1Score = f1_score(y_test, predicted, average='macro')\n",
    "weightedF1Score = f1_score(y_test, predicted, average='weighted')"
   ]
  },
  {
   "cell_type": "markdown",
   "metadata": {},
   "source": [
    "(e) the prior probability of each class"
   ]
  },
  {
   "cell_type": "code",
   "execution_count": null,
   "metadata": {},
   "outputs": [],
   "source": []
  },
  {
   "cell_type": "markdown",
   "metadata": {},
   "source": [
    "(f) the size of the vocabulary (i.e. the number of different words)"
   ]
  },
  {
   "cell_type": "code",
   "execution_count": 10,
   "metadata": {},
   "outputs": [],
   "source": [
    "vocabularyLength = len((vectorizer.vocabulary_))"
   ]
  },
  {
   "cell_type": "markdown",
   "metadata": {},
   "source": [
    "(g) the number of word-tokens in each class (i.e. the number of words in total)"
   ]
  },
  {
   "cell_type": "code",
   "execution_count": null,
   "metadata": {},
   "outputs": [],
   "source": []
  },
  {
   "cell_type": "markdown",
   "metadata": {},
   "source": [
    "(h) the number of word-tokens in the entire corpus"
   ]
  },
  {
   "cell_type": "code",
   "execution_count": null,
   "metadata": {},
   "outputs": [],
   "source": []
  },
  {
   "cell_type": "markdown",
   "metadata": {},
   "source": [
    "(i) the number and percentage of words with a frequency of zero in each class"
   ]
  },
  {
   "cell_type": "code",
   "execution_count": null,
   "metadata": {},
   "outputs": [],
   "source": []
  },
  {
   "cell_type": "markdown",
   "metadata": {},
   "source": [
    "(j) the number and percentage of words with a frequency of one in the entire corpus"
   ]
  },
  {
   "cell_type": "code",
   "execution_count": null,
   "metadata": {},
   "outputs": [],
   "source": []
  },
  {
   "cell_type": "markdown",
   "metadata": {},
   "source": [
    "(k) your 2 favorite words (that are present in the vocabulary) and their log-prob"
   ]
  },
  {
   "cell_type": "code",
   "execution_count": null,
   "metadata": {},
   "outputs": [],
   "source": []
  },
  {
   "cell_type": "markdown",
   "metadata": {},
   "source": [
    "8. Redo steps 6 and 7 without changing anything (do not redo step 5, the dataset split). Change the\n",
    "model name to something like “MultinomialNB default values, try 2” and append the results to the file\n",
    "bbc-performance.txt."
   ]
  },
  {
   "cell_type": "markdown",
   "metadata": {},
   "source": [
    "9. Redo steps 6 and 7 again, but this time, change the smoothing value to 0.0001. Append the results at the\n",
    "end of bbc-performance.txt"
   ]
  },
  {
   "cell_type": "markdown",
   "metadata": {},
   "source": [
    "10. Redo steps 6 and 7, but this time, change the smoothing value to 0.9. Append the results at the end of\n",
    "bbc-performance.txt."
   ]
  },
  {
   "cell_type": "markdown",
   "metadata": {},
   "source": [
    "Write to `bbc-performance.txt`"
   ]
  },
  {
   "cell_type": "code",
   "execution_count": 12,
   "id": "d355f9ac",
   "metadata": {},
   "outputs": [
    {
     "data": {
      "text/plain": [
       "82"
      ]
     },
     "execution_count": 12,
     "metadata": {},
     "output_type": "execute_result"
    }
   ],
   "source": [
    "f = open('bbc-performance.txt', 'w')\n",
    "f.write('MultinomialNB default values, try 1\\n')\n",
    "f.write('---------------------------------------------------------------------------------\\n')\n",
    "f.write('b) Confusion matrix\\n')\n",
    "f.write(DataFrame(cmatrix).to_string() + '\\n')\n",
    "f.write('---------------------------------------------------------------------------------\\n')\n",
    "f.write('c) Classification Report\\n\\n')\n",
    "f.write(classificationReport + '\\n')\n",
    "f.write('---------------------------------------------------------------------------------\\n')\n",
    "f.write('d) Accuracy, Macro Average F1, Weighted Average\\n')\n",
    "f.write('accuracy: ' + str(accuracyScore) + '\\n')\n",
    "f.write('macro average f1: ' + str(macroF1Score) + '\\n')\n",
    "f.write('weighted average: ' + str(weightedF1Score) + '\\n')\n",
    "f.write('---------------------------------------------------------------------------------\\n')\n",
    "f.write('e) Prior Probabilities\\n')\n",
    "f.write('business: ' + '\\n')\n",
    "f.write('entertainment: ' + '\\n')\n",
    "f.write('politics: ' + '\\n')\n",
    "f.write('sport: ' + '\\n')\n",
    "f.write('tech: ' + '\\n')\n",
    "f.write('---------------------------------------------------------------------------------\\n')\n",
    "f.write('f) Size of vocabulary\\n')\n",
    "f.write('size of vocabulary: ' + str(vocabularyLength) + '\\n')\n",
    "f.write('---------------------------------------------------------------------------------\\n')\n",
    "f.write('g) Number of words-tokens in each class\\n')\n",
    "f.write('business: ' + '\\n')\n",
    "f.write('entertainment: ' + '\\n')\n",
    "f.write('politics: ' + '\\n')\n",
    "f.write('sport: ' + '\\n')\n",
    "f.write('tech: ' + '\\n')\n",
    "f.write('---------------------------------------------------------------------------------\\n')\n",
    "f.write('h) Number of words-tokens in entire corpus\\n')\n",
    "f.write('---------------------------------------------------------------------------------\\n')\n",
    "f.write('i) Number and percentage of words with a frequency of zero in each class\\n')\n",
    "f.write('business: ' + '\\n')\n",
    "f.write('entertainment: ' + '\\n')\n",
    "f.write('politics: ' + '\\n')\n",
    "f.write('sport: ' + '\\n')\n",
    "f.write('tech: ' + '\\n')\n",
    "f.write('---------------------------------------------------------------------------------\\n')\n",
    "f.write('j) Number and percentage of words with a frequency of one in the entire corpus\\n')\n",
    "f.write('---------------------------------------------------------------------------------\\n')\n",
    "f.write('k) Our 2 favorite words and their log-prob \\n')\n",
    "f.write('---------------------------------------------------------------------------------\\n')"
   ]
  }
 ],
 "metadata": {
  "interpreter": {
   "hash": "110646fc04d8eb4b472f783b11b2cd66382864c9ecb559c878e82b087fcce6fc"
  },
  "kernelspec": {
   "display_name": "Python 3.9.7 64-bit",
   "name": "python3"
  },
  "language_info": {
   "codemirror_mode": {
    "name": "ipython",
    "version": 3
   },
   "file_extension": ".py",
   "mimetype": "text/x-python",
   "name": "python",
   "nbconvert_exporter": "python",
   "pygments_lexer": "ipython3",
   "version": "3.9.7"
  }
 },
 "nbformat": 4,
 "nbformat_minor": 5
}
