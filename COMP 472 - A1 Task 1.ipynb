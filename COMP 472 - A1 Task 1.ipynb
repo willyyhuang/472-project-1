{
 "cells": [
  {
   "cell_type": "markdown",
   "id": "2bf57f80",
   "metadata": {},
   "source": [
    "#### Fall 2021 | COMP 4721"
   ]
  },
  {
   "cell_type": "markdown",
   "id": "3259843f",
   "metadata": {},
   "source": [
    "## Mini-Project 1\n",
    "\n",
    "#### Wei Chen Huang, Ian Phillips, Beatrice Cobo\n",
    "---"
   ]
  },
  {
   "cell_type": "markdown",
   "id": "136d8fc2",
   "metadata": {},
   "source": [
    "### Task 1\n",
    "\n",
    "import statements for necessary libraries"
   ]
  },
  {
   "cell_type": "code",
   "execution_count": 18,
   "id": "4ffb4d51",
   "metadata": {},
   "outputs": [],
   "source": [
    "import numpy as np\n",
    "import os\n",
    "from sklearn.datasets import load_files\n",
    "from sklearn.feature_extraction.text import CountVectorizer\n",
    "from sklearn.model_selection import train_test_split\n",
    "from sklearn.naive_bayes import MultinomialNB\n",
    "import matplotlib.pyplot as plt\n",
    "from sklearn.metrics import confusion_matrix\n",
    "from sklearn.metrics import classification_report\n",
    "from sklearn.metrics import accuracy_score\n",
    "from sklearn.metrics import f1_score\n",
    "from pandas import *\n",
    "%matplotlib inline"
   ]
  },
  {
   "cell_type": "markdown",
   "id": "2ef37910",
   "metadata": {},
   "source": [
    "2. Plot the distribution of the instances in each class and save the graphic in a file called BBC-distribution.pdf.\n",
    "You may want to use matplotlib.pyplot and savefig to do this. This pre-analysis of the data set will\n",
    "allow you to determine if the classes are balanced, and which metric is more appropriate to use to evaluate\n",
    "the performance of your classifier."
   ]
  },
  {
   "cell_type": "code",
   "execution_count": 19,
   "id": "12b58c30",
   "metadata": {},
   "outputs": [
    {
     "data": {
      "image/png": "[encoded data removed]",
      "text/plain": [
       "<Figure size 432x288 with 1 Axes>"
      ]
     },
     "metadata": {
      "needs_background": "light"
     },
     "output_type": "display_data"
    }
   ],
   "source": [
    "datadir=\"BBC\"\n",
    "categories=[\"tech\", \"entertainment\", \"politics\", \"business\", \"sport\"]\n",
    "txt_array=[];\n",
    "all_array=[];\n",
    "for category in categories:  # for each class\n",
    "    path = os.path.join(datadir,category)  # create path to class\n",
    "    for txt in os.listdir(path):  # iterate over each text file per class\n",
    "        txt_array.append(txt)\n",
    "    all_array.append(len(txt_array))\n",
    "    txt_array=[]\n",
    "fig = plt.figure()\n",
    "plt.bar(categories,all_array)\n",
    "fig.savefig('BBC-distribution.pdf', dpi=fig.dpi)"
   ]
  },
  {
   "cell_type": "markdown",
   "id": "764d3f1a",
   "metadata": {},
   "source": [
    "3. Load the corpus using load files and make sure you set the encoding to latin1. This will read the file\n",
    "structure and assign the category name to each file from their parent directory name."
   ]
  },
  {
   "cell_type": "code",
   "execution_count": 20,
   "id": "24c608f2",
   "metadata": {},
   "outputs": [],
   "source": [
    "corpus=load_files(container_path=datadir,encoding=\"latin1\")"
   ]
  },
  {
   "cell_type": "markdown",
   "id": "63b379d1",
   "metadata": {},
   "source": [
    "4. Pre-process the dataset to have the features ready to be used by a multinomial Naive Bayes classifier. This\n",
    "means that the frequency of each word in each class must be computed and stored in a term-document\n",
    "matrix. For this, you can use feature extraction.text.CountVectorizer."
   ]
  },
  {
   "cell_type": "code",
   "execution_count": 21,
   "id": "5705c7aa",
   "metadata": {},
   "outputs": [],
   "source": [
    "vectorizer = CountVectorizer()\n",
    "X = vectorizer.fit_transform(corpus.data)"
   ]
  },
  {
   "cell_type": "markdown",
   "id": "fc12f7c8",
   "metadata": {},
   "source": [
    "5. Split the dataset into 80% for training and 20% for testing. For this, you must use train test split with\n",
    "the parameter random state set to None."
   ]
  },
  {
   "cell_type": "code",
   "execution_count": 22,
   "id": "a9f00608",
   "metadata": {},
   "outputs": [],
   "source": [
    "X_train, X_test, y_train, y_test = train_test_split(X,corpus.target, test_size=0.2,random_state=None)"
   ]
  },
  {
   "cell_type": "markdown",
   "id": "10bd106d",
   "metadata": {},
   "source": [
    "6. Train a multinomial Naive Bayes Classifier (naive bayes.MultinomialNB) on the training set using the\n",
    "default parameters and evaluate it on the test set."
   ]
  },
  {
   "cell_type": "code",
   "execution_count": 23,
   "id": "decf128c",
   "metadata": {},
   "outputs": [],
   "source": [
    "clf = MultinomialNB()\n",
    "clf.fit(X_train, y_train)\n",
    "predicted = clf.predict(X_test)"
   ]
  },
  {
   "cell_type": "markdown",
   "id": "8b129741",
   "metadata": {},
   "source": [
    "7. In a file called bbc-performance.txt, save the following information: (to make it easier for the TAs, make\n",
    "sure that your output for each sub-question below is clearly marked in your output file, using the headings\n",
    "(a), (b) . . .)\n"
   ]
  },
  {
   "cell_type": "markdown",
   "id": "4918c135",
   "metadata": {},
   "source": [
    "(b) the confusion matrix (you can use confusion matrix)"
   ]
  },
  {
   "cell_type": "code",
   "execution_count": 24,
   "id": "c30d7b6b",
   "metadata": {},
   "outputs": [],
   "source": [
    "cmatrix = confusion_matrix(y_test, predicted)"
   ]
  },
  {
   "cell_type": "markdown",
   "id": "36dba303",
   "metadata": {},
   "source": [
    "(c) the precision, recall, and F1-measure for each class (you can use classification report)\n"
   ]
  },
  {
   "cell_type": "code",
   "execution_count": 25,
   "id": "3fa843b3",
   "metadata": {},
   "outputs": [
    {
     "name": "stdout",
     "output_type": "stream",
     "text": [
      "               precision    recall  f1-score   support\n",
      "\n",
      "     business       0.99      0.97      0.98        90\n",
      "entertainment       1.00      0.97      0.99        68\n",
      "     politics       0.98      1.00      0.99        90\n",
      "        sport       1.00      1.00      1.00       113\n",
      "         tech       0.97      0.99      0.98        84\n",
      "\n",
      "     accuracy                           0.99       445\n",
      "    macro avg       0.99      0.99      0.99       445\n",
      " weighted avg       0.99      0.99      0.99       445\n",
      "\n"
     ]
    }
   ],
   "source": [
    "classificationReport = classification_report(y_test, predicted, target_names=corpus.target_names)\n",
    "print(classificationReport)"
   ]
  },
  {
   "cell_type": "markdown",
   "id": "95dffad5",
   "metadata": {},
   "source": [
    "(d) the accuracy, macro-average F1 and weighted-average F1 of the model (you can use accuracy score\n",
    "and f1 score)"
   ]
  },
  {
   "cell_type": "code",
   "execution_count": 26,
   "id": "950064eb",
   "metadata": {},
   "outputs": [],
   "source": [
    "accuracyScore = accuracy_score(y_test, predicted)\n",
    "macroF1Score = f1_score(y_test, predicted, average='macro')\n",
    "weightedF1Score = f1_score(y_test, predicted, average='weighted')"
   ]
  },
  {
   "cell_type": "markdown",
   "id": "cbb36976",
   "metadata": {},
   "source": [
    "(e) the prior probability of each class"
   ]
  },
  {
   "cell_type": "code",
   "execution_count": null,
   "id": "b6bc1f0a",
   "metadata": {},
   "outputs": [],
   "source": []
  },
  {
   "cell_type": "markdown",
   "id": "743d22e5",
   "metadata": {},
   "source": [
    "(f) the size of the vocabulary (i.e. the number of different words)"
   ]
  },
  {
   "cell_type": "code",
   "execution_count": 27,
   "id": "8271514f",
   "metadata": {},
   "outputs": [],
   "source": [
    "vocabularyLength = len((vectorizer.vocabulary_))"
   ]
  },
  {
   "cell_type": "markdown",
   "id": "18404c58",
   "metadata": {},
   "source": [
    "(g) the number of word-tokens in each class (i.e. the number of words in total)"
   ]
  },
  {
   "cell_type": "code",
   "execution_count": 29,
   "id": "8a83f4d3",
   "metadata": {},
   "outputs": [
    {
     "name": "stdout",
     "output_type": "stream",
     "text": [
      "70596903\n",
      "68146975\n",
      "62938590\n",
      "55867735\n",
      "73174753\n"
     ]
    }
   ],
   "source": [
    "enter_arr=[]\n",
    "tech_arr=[]\n",
    "sport_arr=[]\n",
    "politics_arr=[]\n",
    "business_arr=[]\n",
    "i = 0\n",
    "\n",
    "arr={'business':[],'entertainment':[],'politics':[],'sport':[],'tech':[]}\n",
    "    \n",
    "for data in corpus.target:  # for each class\n",
    "    if(data==0):\n",
    "        arr['business'].append(corpus.data[i])\n",
    "    if(data==1):\n",
    "        arr['entertainment'].append(corpus.data[i])\n",
    "    if(data==2):\n",
    "        arr['politics'].append(corpus.data[i])\n",
    "    if(data==3):\n",
    "        arr['sport'].append(corpus.data[i])\n",
    "    if(data==4):\n",
    "        arr['tech'].append(corpus.data[i])\n",
    "    i=i+1;\n",
    "\n",
    "\n",
    "total_business=0\n",
    "total_entertainment=0\n",
    "total_politics=0\n",
    "total_sport=0\n",
    "total_tech=0\n",
    "\n",
    "vectorizer2 = CountVectorizer()\n",
    "X = vectorizer2.fit_transform(arr['business'])\n",
    "business_arr=vectorizer2.vocabulary_\n",
    "for b in business_arr:\n",
    "    total_business+=vectorizer2.vocabulary_.get(b)\n",
    "\n",
    "vectorizer2 = CountVectorizer()\n",
    "X = vectorizer2.fit_transform(arr['entertainment'])\n",
    "entertainment_arr=vectorizer2.vocabulary_\n",
    "for e in entertainment_arr:\n",
    "    total_entertainment+=vectorizer2.vocabulary_.get(e)\n",
    "    \n",
    "vectorizer2 = CountVectorizer()    \n",
    "X = vectorizer2.fit_transform(arr['politics'])\n",
    "politics_arr=vectorizer2.vocabulary_\n",
    "for p in politics_arr:\n",
    "    total_politics+=vectorizer2.vocabulary_.get(p)\n",
    "    \n",
    "vectorizer2 = CountVectorizer()    \n",
    "X = vectorizer2.fit_transform(arr['sport'])\n",
    "sport_arr=vectorizer2.vocabulary_\n",
    "for s in sport_arr:\n",
    "    total_sport+=vectorizer2.vocabulary_.get(s)\n",
    "\n",
    "vectorizer2 = CountVectorizer()    \n",
    "X = vectorizer2.fit_transform(arr['tech'])\n",
    "tech_arr=vectorizer2.vocabulary_\n",
    "for t in tech_arr:\n",
    "    total_tech+=vectorizer2.vocabulary_.get(t)\n",
    "\n",
    "print(total_business)\n",
    "print(total_entertainment)\n",
    "print(total_politics)\n",
    "print(total_sport)\n",
    "print(total_tech)"
   ]
  },
  {
   "cell_type": "markdown",
   "id": "b0960ffe",
   "metadata": {},
   "source": [
    "(h) the number of word-tokens in the entire corpus"
   ]
  },
  {
   "cell_type": "code",
   "execution_count": null,
   "id": "0056718f",
   "metadata": {},
   "outputs": [],
   "source": []
  },
  {
   "cell_type": "markdown",
   "id": "4bd040ca",
   "metadata": {},
   "source": [
    "(i) the number and percentage of words with a frequency of zero in each class"
   ]
  },
  {
   "cell_type": "code",
   "execution_count": null,
   "id": "fb7f2ba9",
   "metadata": {},
   "outputs": [],
   "source": []
  },
  {
   "cell_type": "markdown",
   "id": "17407d99",
   "metadata": {},
   "source": [
    "(j) the number and percentage of words with a frequency of one in the entire corpus"
   ]
  },
  {
   "cell_type": "code",
   "execution_count": null,
   "id": "7abb0026",
   "metadata": {},
   "outputs": [],
   "source": []
  },
  {
   "cell_type": "markdown",
   "id": "a863dd41",
   "metadata": {},
   "source": [
    "(k) your 2 favorite words (that are present in the vocabulary) and their log-prob"
   ]
  },
  {
   "cell_type": "code",
   "execution_count": null,
   "id": "36bcd12c",
   "metadata": {},
   "outputs": [],
   "source": []
  },
  {
   "cell_type": "markdown",
   "id": "2e9db4e9",
   "metadata": {},
   "source": [
    "8. Redo steps 6 and 7 without changing anything (do not redo step 5, the dataset split). Change the\n",
    "model name to something like “MultinomialNB default values, try 2” and append the results to the file\n",
    "bbc-performance.txt."
   ]
  },
  {
   "cell_type": "markdown",
   "id": "9db86fd5",
   "metadata": {},
   "source": [
    "9. Redo steps 6 and 7 again, but this time, change the smoothing value to 0.0001. Append the results at the\n",
    "end of bbc-performance.txt"
   ]
  },
  {
   "cell_type": "markdown",
   "id": "d219c9f7",
   "metadata": {},
   "source": [
    "10. Redo steps 6 and 7, but this time, change the smoothing value to 0.9. Append the results at the end of\n",
    "bbc-performance.txt."
   ]
  },
  {
   "cell_type": "markdown",
   "id": "dd07716e",
   "metadata": {},
   "source": [
    "Write to `bbc-performance.txt`"
   ]
  },
  {
   "cell_type": "code",
   "execution_count": 12,
   "id": "d355f9ac",
   "metadata": {},
   "outputs": [
    {
     "data": {
      "text/plain": [
       "82"
      ]
     },
     "execution_count": 12,
     "metadata": {},
     "output_type": "execute_result"
    }
   ],
   "source": [
    "f = open('bbc-performance.txt', 'w')\n",
    "f.write('MultinomialNB default values, try 1\\n')\n",
    "f.write('---------------------------------------------------------------------------------\\n')\n",
    "f.write('b) Confusion matrix\\n')\n",
    "f.write(DataFrame(cmatrix).to_string() + '\\n')\n",
    "f.write('---------------------------------------------------------------------------------\\n')\n",
    "f.write('c) Classification Report\\n\\n')\n",
    "f.write(classificationReport + '\\n')\n",
    "f.write('---------------------------------------------------------------------------------\\n')\n",
    "f.write('d) Accuracy, Macro Average F1, Weighted Average\\n')\n",
    "f.write('accuracy: ' + str(accuracyScore) + '\\n')\n",
    "f.write('macro average f1: ' + str(macroF1Score) + '\\n')\n",
    "f.write('weighted average: ' + str(weightedF1Score) + '\\n')\n",
    "f.write('---------------------------------------------------------------------------------\\n')\n",
    "f.write('e) Prior Probabilities\\n')\n",
    "f.write('business: ' + '\\n')\n",
    "f.write('entertainment: ' + '\\n')\n",
    "f.write('politics: ' + '\\n')\n",
    "f.write('sport: ' + '\\n')\n",
    "f.write('tech: ' + '\\n')\n",
    "f.write('---------------------------------------------------------------------------------\\n')\n",
    "f.write('f) Size of vocabulary\\n')\n",
    "f.write('size of vocabulary: ' + str(vocabularyLength) + '\\n')\n",
    "f.write('---------------------------------------------------------------------------------\\n')\n",
    "f.write('g) Number of words-tokens in each class\\n')\n",
    "f.write('business: ' + '\\n')\n",
    "f.write('entertainment: ' + '\\n')\n",
    "f.write('politics: ' + '\\n')\n",
    "f.write('sport: ' + '\\n')\n",
    "f.write('tech: ' + '\\n')\n",
    "f.write('---------------------------------------------------------------------------------\\n')\n",
    "f.write('h) Number of words-tokens in entire corpus\\n')\n",
    "f.write('---------------------------------------------------------------------------------\\n')\n",
    "f.write('i) Number and percentage of words with a frequency of zero in each class\\n')\n",
    "f.write('business: ' + '\\n')\n",
    "f.write('entertainment: ' + '\\n')\n",
    "f.write('politics: ' + '\\n')\n",
    "f.write('sport: ' + '\\n')\n",
    "f.write('tech: ' + '\\n')\n",
    "f.write('---------------------------------------------------------------------------------\\n')\n",
    "f.write('j) Number and percentage of words with a frequency of one in the entire corpus\\n')\n",
    "f.write('---------------------------------------------------------------------------------\\n')\n",
    "f.write('k) Our 2 favorite words and their log-prob \\n')\n",
    "f.write('---------------------------------------------------------------------------------\\n')"
   ]
  }
 ],
 "metadata": {
  "interpreter": {
   "hash": "110646fc04d8eb4b472f783b11b2cd66382864c9ecb559c878e82b087fcce6fc"
  },
  "kernelspec": {
   "display_name": "Python 3",
   "language": "python",
   "name": "python3"
  },
  "language_info": {
   "codemirror_mode": {
    "name": "ipython",
    "version": 3
   },
   "file_extension": ".py",
   "mimetype": "text/x-python",
   "name": "python",
   "nbconvert_exporter": "python",
   "pygments_lexer": "ipython3",
   "version": "3.8.8"
  }
 },
 "nbformat": 4,
 "nbformat_minor": 5
}
